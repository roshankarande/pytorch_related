{
 "cells": [
  {
   "cell_type": "code",
   "execution_count": 34,
   "id": "b511ba47-2512-43a5-9e45-b9bc18739385",
   "metadata": {},
   "outputs": [],
   "source": [
    "import torch, sys"
   ]
  },
  {
   "cell_type": "code",
   "execution_count": 2,
   "id": "200cb9b9-8b7d-4c12-aeab-f39a62ae059c",
   "metadata": {},
   "outputs": [
    {
     "data": {
      "text/plain": [
       "'2.1.0'"
      ]
     },
     "execution_count": 2,
     "metadata": {},
     "output_type": "execute_result"
    }
   ],
   "source": [
    "torch.__version__"
   ]
  },
  {
   "cell_type": "code",
   "execution_count": 3,
   "id": "86c2f1a4-fe00-47d1-8113-485286a6e751",
   "metadata": {},
   "outputs": [
    {
     "data": {
      "text/plain": [
       "True"
      ]
     },
     "execution_count": 3,
     "metadata": {},
     "output_type": "execute_result"
    }
   ],
   "source": [
    "torch.cuda.is_available()"
   ]
  },
  {
   "cell_type": "code",
   "execution_count": 7,
   "id": "51e9a3ad-371e-4bb1-ab4d-f262bafb097f",
   "metadata": {},
   "outputs": [],
   "source": [
    "scalar = torch.tensor([1.0])"
   ]
  },
  {
   "cell_type": "code",
   "execution_count": 11,
   "id": "452fe8a4-1ac4-4469-a65f-947f2d25b2c0",
   "metadata": {},
   "outputs": [
    {
     "data": {
      "text/plain": [
       "torch.Size([1])"
      ]
     },
     "execution_count": 11,
     "metadata": {},
     "output_type": "execute_result"
    }
   ],
   "source": [
    "scalar.shape"
   ]
  },
  {
   "cell_type": "code",
   "execution_count": 12,
   "id": "81b3ae55-7824-47bf-912f-5c1f7b054afe",
   "metadata": {},
   "outputs": [
    {
     "data": {
      "text/plain": [
       "1.0"
      ]
     },
     "execution_count": 12,
     "metadata": {},
     "output_type": "execute_result"
    }
   ],
   "source": [
    "scalar.item()"
   ]
  },
  {
   "cell_type": "code",
   "execution_count": 13,
   "id": "5a7b5844-33fb-4fc7-91e2-a1787ece0e9c",
   "metadata": {},
   "outputs": [
    {
     "data": {
      "text/plain": [
       "1"
      ]
     },
     "execution_count": 13,
     "metadata": {},
     "output_type": "execute_result"
    }
   ],
   "source": [
    "scalar.ndim"
   ]
  },
  {
   "cell_type": "code",
   "execution_count": 16,
   "id": "0759ff89-1f08-4393-884a-0a9f72fcfc4f",
   "metadata": {},
   "outputs": [],
   "source": [
    "t = torch.tensor([1.2, 4,4.5])"
   ]
  },
  {
   "cell_type": "code",
   "execution_count": 23,
   "id": "33d16aab-7662-4990-b396-d8dcb36746a6",
   "metadata": {},
   "outputs": [
    {
     "data": {
      "text/plain": [
       "array([1.2, 4. , 4.5], dtype=float32)"
      ]
     },
     "execution_count": 23,
     "metadata": {},
     "output_type": "execute_result"
    }
   ],
   "source": [
    "t.numpy()"
   ]
  },
  {
   "cell_type": "code",
   "execution_count": 24,
   "id": "b308e9a4-52ef-4e61-9f01-3a7fd13db7ae",
   "metadata": {},
   "outputs": [
    {
     "data": {
      "text/plain": [
       "1.0"
      ]
     },
     "execution_count": 24,
     "metadata": {},
     "output_type": "execute_result"
    }
   ],
   "source": [
    "scalar.numpy().item()"
   ]
  },
  {
   "cell_type": "code",
   "execution_count": 25,
   "id": "6043e5bd-56b1-4d14-9a51-51d95f49c660",
   "metadata": {},
   "outputs": [
    {
     "data": {
      "text/plain": [
       "tensor([[0., 0., 0., 0., 0.],\n",
       "        [0., 0., 0., 0., 0.],\n",
       "        [0., 0., 0., 0., 0.],\n",
       "        [0., 0., 0., 0., 0.]])"
      ]
     },
     "execution_count": 25,
     "metadata": {},
     "output_type": "execute_result"
    }
   ],
   "source": [
    "torch.zeros((4,5))"
   ]
  },
  {
   "cell_type": "code",
   "execution_count": 29,
   "id": "3c374f35-b0e0-4126-9b2f-e4f341fe161b",
   "metadata": {},
   "outputs": [
    {
     "data": {
      "text/plain": [
       "tensor([[-1.5020, -0.6779,  0.0465],\n",
       "        [ 0.5788, -0.3958,  0.4767]])"
      ]
     },
     "execution_count": 29,
     "metadata": {},
     "output_type": "execute_result"
    }
   ],
   "source": [
    "torch.randn(2,3)"
   ]
  },
  {
   "cell_type": "code",
   "execution_count": 31,
   "id": "540ef49c-b847-4b91-a401-4da17d62ada7",
   "metadata": {},
   "outputs": [
    {
     "data": {
      "text/plain": [
       "torch.float32"
      ]
     },
     "execution_count": 31,
     "metadata": {},
     "output_type": "execute_result"
    }
   ],
   "source": [
    "t.dtype"
   ]
  },
  {
   "cell_type": "code",
   "execution_count": 32,
   "id": "09c69839-3b19-4139-9394-8dbb27f64195",
   "metadata": {},
   "outputs": [
    {
     "data": {
      "text/plain": [
       "tensor([[0.1704, 0.3428, 0.4023],\n",
       "        [0.5264, 0.0825, 0.2158]], dtype=torch.float16)"
      ]
     },
     "execution_count": 32,
     "metadata": {},
     "output_type": "execute_result"
    }
   ],
   "source": [
    "torch.rand((2,3),dtype=torch.float16)"
   ]
  },
  {
   "cell_type": "code",
   "execution_count": 33,
   "id": "462a8056-f289-49bb-9a68-0f6d7d025f0e",
   "metadata": {},
   "outputs": [
    {
     "data": {
      "text/plain": [
       "tensor([0, 1, 2, 3, 4, 5, 6, 7, 8, 9])"
      ]
     },
     "execution_count": 33,
     "metadata": {},
     "output_type": "execute_result"
    }
   ],
   "source": [
    "torch.arange(10)"
   ]
  },
  {
   "cell_type": "code",
   "execution_count": 35,
   "id": "ec45edba-94e1-4295-9eb7-9ea98d305688",
   "metadata": {},
   "outputs": [
    {
     "data": {
      "text/plain": [
       "80"
      ]
     },
     "execution_count": 35,
     "metadata": {},
     "output_type": "execute_result"
    }
   ],
   "source": [
    "sys.getsizeof(torch.rand((10,10),dtype=torch.float32))"
   ]
  },
  {
   "cell_type": "code",
   "execution_count": 36,
   "id": "2409972d-6292-4490-bd9d-1785565ec197",
   "metadata": {},
   "outputs": [
    {
     "data": {
      "text/plain": [
       "80"
      ]
     },
     "execution_count": 36,
     "metadata": {},
     "output_type": "execute_result"
    }
   ],
   "source": [
    "sys.getsizeof(torch.rand((10,10),dtype=torch.float64))"
   ]
  },
  {
   "cell_type": "code",
   "execution_count": 43,
   "id": "c309e192-04d5-492b-baf1-c3240e76f17b",
   "metadata": {},
   "outputs": [],
   "source": [
    "t = torch.rand((10,10),dtype=torch.float64)"
   ]
  },
  {
   "cell_type": "code",
   "execution_count": 44,
   "id": "656b1466-b015-4bd7-826e-e726f94bd7ef",
   "metadata": {},
   "outputs": [
    {
     "data": {
      "text/plain": [
       "(100, 100)"
      ]
     },
     "execution_count": 44,
     "metadata": {},
     "output_type": "execute_result"
    }
   ],
   "source": [
    "t.nelement(), t.numel() # both => number of elements"
   ]
  },
  {
   "cell_type": "code",
   "execution_count": 45,
   "id": "2e3c0a9b-ba5c-4156-8f7b-09620db020b9",
   "metadata": {},
   "outputs": [
    {
     "data": {
      "text/plain": [
       "8"
      ]
     },
     "execution_count": 45,
     "metadata": {},
     "output_type": "execute_result"
    }
   ],
   "source": [
    "t.element_size()  # bytes per element of the tensor"
   ]
  },
  {
   "cell_type": "code",
   "execution_count": 46,
   "id": "61b077d8-70f8-44a8-b448-6e092d5bc80d",
   "metadata": {},
   "outputs": [
    {
     "data": {
      "text/plain": [
       "device(type='cpu')"
      ]
     },
     "execution_count": 46,
     "metadata": {},
     "output_type": "execute_result"
    }
   ],
   "source": [
    "t.device"
   ]
  },
  {
   "cell_type": "code",
   "execution_count": 55,
   "id": "2991eb89-f194-433d-8c84-37bdabc28ff5",
   "metadata": {},
   "outputs": [],
   "source": [
    "device = torch.device('cuda' if torch.cuda.is_available() else 'cpu')"
   ]
  },
  {
   "cell_type": "code",
   "execution_count": 48,
   "id": "69816096-fd49-4ae4-8728-8aebe155d621",
   "metadata": {},
   "outputs": [
    {
     "data": {
      "text/plain": [
       "device(type='cuda')"
      ]
     },
     "execution_count": 48,
     "metadata": {},
     "output_type": "execute_result"
    }
   ],
   "source": [
    "device"
   ]
  },
  {
   "cell_type": "code",
   "execution_count": 56,
   "id": "6fbf43a0-78d2-466c-a75a-e276ae4f514d",
   "metadata": {},
   "outputs": [],
   "source": [
    "a = torch.arange(1,4)"
   ]
  },
  {
   "cell_type": "code",
   "execution_count": 59,
   "id": "0437a175-2f11-416c-88cf-b7af31cdc933",
   "metadata": {},
   "outputs": [
    {
     "data": {
      "text/plain": [
       "(tensor(14), tensor([1, 4, 9]))"
      ]
     },
     "execution_count": 59,
     "metadata": {},
     "output_type": "execute_result"
    }
   ],
   "source": [
    "a @ a, a * a"
   ]
  },
  {
   "cell_type": "code",
   "execution_count": 85,
   "id": "fe9cface-1c99-43ac-adb4-b78479c060ef",
   "metadata": {},
   "outputs": [
    {
     "name": "stdout",
     "output_type": "stream",
     "text": [
      "Input shape: torch.Size([3, 2])\n",
      "\n",
      "Output:\n",
      "tensor([[2.2368, 1.2292, 0.4714, 0.3864, 0.1309, 0.9838],\n",
      "        [4.4919, 2.1970, 0.4469, 0.5285, 0.3401, 2.4777],\n",
      "        [6.7469, 3.1648, 0.4224, 0.6705, 0.5493, 3.9716]],\n",
      "       grad_fn=<AddmmBackward0>)\n",
      "\n",
      "Output shape: torch.Size([3, 6])\n"
     ]
    }
   ],
   "source": [
    "tensor_A = torch.tensor([[1, 2],\n",
    "                         [3, 4],\n",
    "                         [5, 6]], dtype=torch.float32)\n",
    "\n",
    "# Since the linear layer starts with a random weights matrix, let's make it reproducible (more on this later)\n",
    "torch.manual_seed(42)\n",
    "# This uses matrix multiplication\n",
    "linear = torch.nn.Linear(in_features=2, # in_features = matches inner dimension of input \n",
    "                         out_features=6) # out_features = describes outer value \n",
    "x = tensor_A\n",
    "output = linear(x)\n",
    "print(f\"Input shape: {x.shape}\\n\")\n",
    "print(f\"Output:\\n{output}\\n\\nOutput shape: {output.shape}\")"
   ]
  },
  {
   "cell_type": "code",
   "execution_count": 62,
   "id": "8078256b-47d6-4017-b3c6-b6914f1a10f9",
   "metadata": {},
   "outputs": [
    {
     "data": {
      "text/plain": [
       "tensor([[2.2368, 1.2292, 0.4714, 0.3864, 0.1309, 0.9838],\n",
       "        [4.4919, 2.1970, 0.4469, 0.5285, 0.3401, 2.4777],\n",
       "        [6.7469, 3.1648, 0.4224, 0.6705, 0.5493, 3.9716]],\n",
       "       grad_fn=<AddmmBackward0>)"
      ]
     },
     "execution_count": 62,
     "metadata": {},
     "output_type": "execute_result"
    }
   ],
   "source": [
    "output"
   ]
  },
  {
   "cell_type": "code",
   "execution_count": 66,
   "id": "bf545cc1-fdf7-4468-bab1-c9351e1a0e7b",
   "metadata": {},
   "outputs": [
    {
     "data": {
      "text/plain": [
       "tensor([4, 4, 2])"
      ]
     },
     "execution_count": 66,
     "metadata": {},
     "output_type": "execute_result"
    }
   ],
   "source": [
    "output.argmin(dim=1)"
   ]
  },
  {
   "cell_type": "code",
   "execution_count": 67,
   "id": "46948470-827d-447f-9233-a2e76d7a444c",
   "metadata": {},
   "outputs": [
    {
     "data": {
      "text/plain": [
       "tensor([[2.2368, 1.2292, 0.4714, 0.3864, 0.1309, 0.9838],\n",
       "        [4.4919, 2.1970, 0.4469, 0.5285, 0.3401, 2.4777],\n",
       "        [6.7469, 3.1648, 0.4224, 0.6705, 0.5493, 3.9716]],\n",
       "       grad_fn=<AddmmBackward0>)"
      ]
     },
     "execution_count": 67,
     "metadata": {},
     "output_type": "execute_result"
    }
   ],
   "source": [
    "output"
   ]
  },
  {
   "cell_type": "code",
   "execution_count": 68,
   "id": "8b756530-1f52-49e0-9a86-b033ae081544",
   "metadata": {},
   "outputs": [
    {
     "data": {
      "text/plain": [
       "torch.Size([3, 6])"
      ]
     },
     "execution_count": 68,
     "metadata": {},
     "output_type": "execute_result"
    }
   ],
   "source": [
    "output.shape"
   ]
  },
  {
   "cell_type": "code",
   "execution_count": 69,
   "id": "50208481-b8bd-450f-9270-6ebf5a2bd2b4",
   "metadata": {},
   "outputs": [
    {
     "data": {
      "text/plain": [
       "tensor([[2.2368, 1.2292],\n",
       "        [0.4714, 0.3864],\n",
       "        [0.1309, 0.9838],\n",
       "        [4.4919, 2.1970],\n",
       "        [0.4469, 0.5285],\n",
       "        [0.3401, 2.4777],\n",
       "        [6.7469, 3.1648],\n",
       "        [0.4224, 0.6705],\n",
       "        [0.5493, 3.9716]], grad_fn=<ViewBackward0>)"
      ]
     },
     "execution_count": 69,
     "metadata": {},
     "output_type": "execute_result"
    }
   ],
   "source": [
    "output.reshape(9,2)"
   ]
  },
  {
   "cell_type": "code",
   "execution_count": 72,
   "id": "9d2a791c-c57f-4f53-bf4f-26b74d13cfa1",
   "metadata": {},
   "outputs": [
    {
     "data": {
      "text/plain": [
       "torch.Size([3, 6])"
      ]
     },
     "execution_count": 72,
     "metadata": {},
     "output_type": "execute_result"
    }
   ],
   "source": [
    "output.shape"
   ]
  },
  {
   "cell_type": "code",
   "execution_count": 74,
   "id": "06576537-14c2-42e5-b850-597ff4f5dcf3",
   "metadata": {},
   "outputs": [],
   "source": [
    "output = output.reshape(3,6,1,1)"
   ]
  },
  {
   "cell_type": "code",
   "execution_count": 86,
   "id": "2bedfde2-7979-4fac-98ab-f998a669d2bb",
   "metadata": {},
   "outputs": [],
   "source": [
    "output = output.squeeze()"
   ]
  },
  {
   "cell_type": "code",
   "execution_count": 87,
   "id": "58bc6f09-7fd9-472e-a8cd-3636bee31305",
   "metadata": {},
   "outputs": [
    {
     "data": {
      "text/plain": [
       "torch.Size([3, 6, 1])"
      ]
     },
     "execution_count": 87,
     "metadata": {},
     "output_type": "execute_result"
    }
   ],
   "source": [
    "output.unsqueeze(2).shape"
   ]
  },
  {
   "cell_type": "code",
   "execution_count": 88,
   "id": "e6ce7530-ffc1-438e-be70-12af08cda06b",
   "metadata": {},
   "outputs": [
    {
     "data": {
      "text/plain": [
       "torch.Size([3, 6])"
      ]
     },
     "execution_count": 88,
     "metadata": {},
     "output_type": "execute_result"
    }
   ],
   "source": [
    "output.shape"
   ]
  },
  {
   "cell_type": "code",
   "execution_count": 95,
   "id": "39c97ef7-8284-41ac-aa56-7b8e9c6ac075",
   "metadata": {},
   "outputs": [
    {
     "data": {
      "text/plain": [
       "tensor([-1.2061,  0.0617,  1.1632, -1.5008, -1.5944])"
      ]
     },
     "execution_count": 95,
     "metadata": {},
     "output_type": "execute_result"
    }
   ],
   "source": [
    "torch.manual_seed(seed = 20)\n",
    "torch.randn(5)"
   ]
  },
  {
   "cell_type": "code",
   "execution_count": 96,
   "id": "8019c781-feb9-4af9-a68c-f0a1bb745fef",
   "metadata": {},
   "outputs": [
    {
     "data": {
      "text/plain": [
       "tensor([-1.2061,  0.0617,  1.1632, -1.5008, -1.5944])"
      ]
     },
     "execution_count": 96,
     "metadata": {},
     "output_type": "execute_result"
    }
   ],
   "source": [
    "torch.manual_seed(seed = 20)\n",
    "torch.randn(5)"
   ]
  },
  {
   "cell_type": "code",
   "execution_count": 97,
   "id": "dd880fbe-4e11-4223-9df9-b3764e333c06",
   "metadata": {},
   "outputs": [
    {
     "data": {
      "text/plain": [
       "tensor([[0.9798, 0.0154, 0.1838, 0.5297, 0.0763, 0.7787, 0.2736, 0.3171, 0.0744,\n",
       "         0.7901],\n",
       "        [0.6036, 0.6457, 0.3691, 0.3048, 0.9585, 0.5862, 0.4004, 0.1848, 0.0111,\n",
       "         0.7133],\n",
       "        [0.3968, 0.2308, 0.6017, 0.2166, 0.3661, 0.1877, 0.6998, 0.0126, 0.5367,\n",
       "         0.2656],\n",
       "        [0.7778, 0.0149, 0.5381, 0.0342, 0.0934, 0.6352, 0.4378, 0.6075, 0.7774,\n",
       "         0.7180],\n",
       "        [0.5958, 0.6719, 0.8469, 0.6206, 0.3203, 0.9649, 0.9645, 0.0122, 0.2310,\n",
       "         0.9666],\n",
       "        [0.0872, 0.7669, 0.4253, 0.8095, 0.8696, 0.3387, 0.3715, 0.7724, 0.3457,\n",
       "         0.4131],\n",
       "        [0.3692, 0.5080, 0.2555, 0.9750, 0.0023, 0.6435, 0.2414, 0.9997, 0.0519,\n",
       "         0.3991],\n",
       "        [0.1650, 0.8788, 0.5991, 0.2238, 0.1403, 0.1774, 0.3580, 0.6203, 0.0369,\n",
       "         0.1136],\n",
       "        [0.0708, 0.8400, 0.8227, 0.6869, 0.1914, 0.6558, 0.4301, 0.4781, 0.2853,\n",
       "         0.6679],\n",
       "        [0.6025, 0.4346, 0.3952, 0.3248, 0.5566, 0.2437, 0.0018, 0.4170, 0.0664,\n",
       "         0.2820]], dtype=torch.float64)"
      ]
     },
     "execution_count": 97,
     "metadata": {},
     "output_type": "execute_result"
    }
   ],
   "source": [
    "t"
   ]
  },
  {
   "cell_type": "code",
   "execution_count": 98,
   "id": "3cd649c1-f36e-4237-9265-e8e15e84463b",
   "metadata": {},
   "outputs": [
    {
     "data": {
      "text/plain": [
       "torch.Size([10, 10])"
      ]
     },
     "execution_count": 98,
     "metadata": {},
     "output_type": "execute_result"
    }
   ],
   "source": [
    "t.shape"
   ]
  },
  {
   "cell_type": "code",
   "execution_count": 102,
   "id": "46c00c25-cb24-49ce-b7ec-595abea3236c",
   "metadata": {},
   "outputs": [],
   "source": [
    "t = t.reshape(100).type(torch.float32)"
   ]
  },
  {
   "cell_type": "code",
   "execution_count": 114,
   "id": "6451f201-7db8-43b7-ba3c-70b8bedf5620",
   "metadata": {},
   "outputs": [
    {
     "data": {
      "text/plain": [
       "device(type='cuda')"
      ]
     },
     "execution_count": 114,
     "metadata": {},
     "output_type": "execute_result"
    }
   ],
   "source": [
    "# Set device type\n",
    "device = torch.device(\"cuda\" if torch.cuda.is_available() else \"cpu\")\n",
    "device"
   ]
  },
  {
   "cell_type": "code",
   "execution_count": 115,
   "id": "26e6a1e8-4369-45a8-b4e7-768d5ff1498e",
   "metadata": {},
   "outputs": [],
   "source": [
    "v = t.to('cuda')  \n",
    "# v = t.to(device)"
   ]
  },
  {
   "cell_type": "code",
   "execution_count": 116,
   "id": "221090e5-3b83-4c40-92e4-d3c198305c45",
   "metadata": {},
   "outputs": [
    {
     "data": {
      "text/plain": [
       "(device(type='cpu'), device(type='cuda', index=0))"
      ]
     },
     "execution_count": 116,
     "metadata": {},
     "output_type": "execute_result"
    }
   ],
   "source": [
    "t.device, v.device"
   ]
  },
  {
   "cell_type": "code",
   "execution_count": 123,
   "id": "17c5bf59-b178-462f-ae88-41f571096b30",
   "metadata": {},
   "outputs": [
    {
     "data": {
      "text/plain": [
       "<torch._C.Generator at 0x7f70b4fb4c30>"
      ]
     },
     "execution_count": 123,
     "metadata": {},
     "output_type": "execute_result"
    }
   ],
   "source": [
    "torch.manual_seed(42)"
   ]
  },
  {
   "cell_type": "code",
   "execution_count": 124,
   "id": "f06d8677-6998-4426-93f8-2f3ca30ea4a6",
   "metadata": {},
   "outputs": [
    {
     "data": {
      "text/plain": [
       "tensor([[0.8823, 0.9150, 0.3829, 0.9593],\n",
       "        [0.3904, 0.6009, 0.2566, 0.7936],\n",
       "        [0.9408, 0.1332, 0.9346, 0.5936]])"
      ]
     },
     "execution_count": 124,
     "metadata": {},
     "output_type": "execute_result"
    }
   ],
   "source": [
    "torch.rand(3,4)"
   ]
  },
  {
   "cell_type": "code",
   "execution_count": null,
   "id": "0280350a-8adc-4402-b846-d6b9def46649",
   "metadata": {},
   "outputs": [],
   "source": []
  }
 ],
 "metadata": {
  "kernelspec": {
   "display_name": "Python 3 (ipykernel)",
   "language": "python",
   "name": "python3"
  },
  "language_info": {
   "codemirror_mode": {
    "name": "ipython",
    "version": 3
   },
   "file_extension": ".py",
   "mimetype": "text/x-python",
   "name": "python",
   "nbconvert_exporter": "python",
   "pygments_lexer": "ipython3",
   "version": "3.10.12"
  }
 },
 "nbformat": 4,
 "nbformat_minor": 5
}
