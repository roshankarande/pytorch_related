{
 "cells": [
  {
   "cell_type": "code",
   "execution_count": 1,
   "metadata": {},
   "outputs": [],
   "source": [
    "import torch\n",
    "import torchvision\n",
    "import torchvision.transforms.v2 as transforms\n",
    "\n",
    "from going_modular.module import data_loader, engine, utils"
   ]
  },
  {
   "cell_type": "code",
   "execution_count": 2,
   "metadata": {},
   "outputs": [],
   "source": [
    "# Set seeds\n",
    "def set_seeds(seed: int=42):\n",
    "    torch.manual_seed(seed)\n",
    "    torch.cuda.manual_seed(seed)"
   ]
  },
  {
   "cell_type": "code",
   "execution_count": 3,
   "metadata": {},
   "outputs": [],
   "source": [
    "basedir = \"./\"\n",
    "train_dir = basedir + \"data/pizza_steak_sushi/train\"\n",
    "test_dir = basedir + \"data/pizza_steak_sushi/test\"\n",
    "\n",
    "device = torch.device('cuda' if torch.cuda.is_available() else 'cpu')"
   ]
  },
  {
   "cell_type": "code",
   "execution_count": 4,
   "metadata": {},
   "outputs": [],
   "source": [
    "# Automatic Transforms\n",
    "weights = torchvision.models.EfficientNet_B1_Weights.DEFAULT # DEFAULT = best performing weights\n",
    "auto_transforms = weights.transforms()"
   ]
  },
  {
   "cell_type": "code",
   "execution_count": 5,
   "metadata": {},
   "outputs": [
    {
     "data": {
      "text/plain": [
       "(<torch.utils.data.dataloader.DataLoader at 0x7ff637f04b50>,\n",
       " <torch.utils.data.dataloader.DataLoader at 0x7ff637f04910>,\n",
       " ['pizza', 'steak', 'sushi'])"
      ]
     },
     "execution_count": 5,
     "metadata": {},
     "output_type": "execute_result"
    }
   ],
   "source": [
    "train_dataloader, test_dataloader, classnames = data_loader.create_dataloaders(train_dir=train_dir, test_dir=test_dir,transform=auto_transforms, batch_size=32)\n",
    "\n",
    "train_dataloader, test_dataloader, classnames"
   ]
  },
  {
   "cell_type": "code",
   "execution_count": 6,
   "metadata": {},
   "outputs": [],
   "source": [
    "model = torchvision.models.efficientnet_b1(weights=weights)"
   ]
  },
  {
   "cell_type": "code",
   "execution_count": 7,
   "metadata": {},
   "outputs": [],
   "source": [
    "for param in model.features.parameters():\n",
    "    param.requires_grad = False\n",
    "\n",
    "model.classifier = torch.nn.Sequential(\n",
    "    torch.nn.Dropout(p=0.2, inplace=True), \n",
    "    torch.nn.Linear(in_features=1280, out_features=len(classnames),bias=True))"
   ]
  },
  {
   "cell_type": "code",
   "execution_count": 8,
   "metadata": {},
   "outputs": [
    {
     "name": "stderr",
     "output_type": "stream",
     "text": [
      "/home/heyia/miniforge3/lib/python3.10/site-packages/torch/nn/modules/conv.py:456: UserWarning: Applied workaround for CuDNN issue, install nvrtc.so (Triggered internally at /opt/conda/conda-bld/pytorch_1695392020201/work/aten/src/ATen/native/cudnn/Conv_v8.cpp:80.)\n",
      "  return F.conv2d(input, weight, bias, self.stride,\n"
     ]
    },
    {
     "data": {
      "text/plain": [
       "============================================================================================================================================\n",
       "Layer (type (var_name))                                      Input Shape          Output Shape         Param #              Trainable\n",
       "============================================================================================================================================\n",
       "EfficientNet (EfficientNet)                                  [32, 3, 224, 224]    [32, 3]              --                   Partial\n",
       "├─Sequential (features)                                      [32, 3, 224, 224]    [32, 1280, 7, 7]     --                   False\n",
       "│    └─Conv2dNormActivation (0)                              [32, 3, 224, 224]    [32, 32, 112, 112]   --                   False\n",
       "│    │    └─Conv2d (0)                                       [32, 3, 224, 224]    [32, 32, 112, 112]   (864)                False\n",
       "│    │    └─BatchNorm2d (1)                                  [32, 32, 112, 112]   [32, 32, 112, 112]   (64)                 False\n",
       "│    │    └─SiLU (2)                                         [32, 32, 112, 112]   [32, 32, 112, 112]   --                   --\n",
       "│    └─Sequential (1)                                        [32, 32, 112, 112]   [32, 16, 112, 112]   --                   False\n",
       "│    │    └─MBConv (0)                                       [32, 32, 112, 112]   [32, 16, 112, 112]   (1,448)              False\n",
       "│    │    └─MBConv (1)                                       [32, 16, 112, 112]   [32, 16, 112, 112]   (612)                False\n",
       "│    └─Sequential (2)                                        [32, 16, 112, 112]   [32, 24, 56, 56]     --                   False\n",
       "│    │    └─MBConv (0)                                       [32, 16, 112, 112]   [32, 24, 56, 56]     (6,004)              False\n",
       "│    │    └─MBConv (1)                                       [32, 24, 56, 56]     [32, 24, 56, 56]     (10,710)             False\n",
       "│    │    └─MBConv (2)                                       [32, 24, 56, 56]     [32, 24, 56, 56]     (10,710)             False\n",
       "│    └─Sequential (3)                                        [32, 24, 56, 56]     [32, 40, 28, 28]     --                   False\n",
       "│    │    └─MBConv (0)                                       [32, 24, 56, 56]     [32, 40, 28, 28]     (15,350)             False\n",
       "│    │    └─MBConv (1)                                       [32, 40, 28, 28]     [32, 40, 28, 28]     (31,290)             False\n",
       "│    │    └─MBConv (2)                                       [32, 40, 28, 28]     [32, 40, 28, 28]     (31,290)             False\n",
       "│    └─Sequential (4)                                        [32, 40, 28, 28]     [32, 80, 14, 14]     --                   False\n",
       "│    │    └─MBConv (0)                                       [32, 40, 28, 28]     [32, 80, 14, 14]     (37,130)             False\n",
       "│    │    └─MBConv (1)                                       [32, 80, 14, 14]     [32, 80, 14, 14]     (102,900)            False\n",
       "│    │    └─MBConv (2)                                       [32, 80, 14, 14]     [32, 80, 14, 14]     (102,900)            False\n",
       "│    │    └─MBConv (3)                                       [32, 80, 14, 14]     [32, 80, 14, 14]     (102,900)            False\n",
       "│    └─Sequential (5)                                        [32, 80, 14, 14]     [32, 112, 14, 14]    --                   False\n",
       "│    │    └─MBConv (0)                                       [32, 80, 14, 14]     [32, 112, 14, 14]    (126,004)            False\n",
       "│    │    └─MBConv (1)                                       [32, 112, 14, 14]    [32, 112, 14, 14]    (208,572)            False\n",
       "│    │    └─MBConv (2)                                       [32, 112, 14, 14]    [32, 112, 14, 14]    (208,572)            False\n",
       "│    │    └─MBConv (3)                                       [32, 112, 14, 14]    [32, 112, 14, 14]    (208,572)            False\n",
       "│    └─Sequential (6)                                        [32, 112, 14, 14]    [32, 192, 7, 7]      --                   False\n",
       "│    │    └─MBConv (0)                                       [32, 112, 14, 14]    [32, 192, 7, 7]      (262,492)            False\n",
       "│    │    └─MBConv (1)                                       [32, 192, 7, 7]      [32, 192, 7, 7]      (587,952)            False\n",
       "│    │    └─MBConv (2)                                       [32, 192, 7, 7]      [32, 192, 7, 7]      (587,952)            False\n",
       "│    │    └─MBConv (3)                                       [32, 192, 7, 7]      [32, 192, 7, 7]      (587,952)            False\n",
       "│    │    └─MBConv (4)                                       [32, 192, 7, 7]      [32, 192, 7, 7]      (587,952)            False\n",
       "│    └─Sequential (7)                                        [32, 192, 7, 7]      [32, 320, 7, 7]      --                   False\n",
       "│    │    └─MBConv (0)                                       [32, 192, 7, 7]      [32, 320, 7, 7]      (717,232)            False\n",
       "│    │    └─MBConv (1)                                       [32, 320, 7, 7]      [32, 320, 7, 7]      (1,563,600)          False\n",
       "│    └─Conv2dNormActivation (8)                              [32, 320, 7, 7]      [32, 1280, 7, 7]     --                   False\n",
       "│    │    └─Conv2d (0)                                       [32, 320, 7, 7]      [32, 1280, 7, 7]     (409,600)            False\n",
       "│    │    └─BatchNorm2d (1)                                  [32, 1280, 7, 7]     [32, 1280, 7, 7]     (2,560)              False\n",
       "│    │    └─SiLU (2)                                         [32, 1280, 7, 7]     [32, 1280, 7, 7]     --                   --\n",
       "├─AdaptiveAvgPool2d (avgpool)                                [32, 1280, 7, 7]     [32, 1280, 1, 1]     --                   --\n",
       "├─Sequential (classifier)                                    [32, 1280]           [32, 3]              --                   True\n",
       "│    └─Dropout (0)                                           [32, 1280]           [32, 1280]           --                   --\n",
       "│    └─Linear (1)                                            [32, 1280]           [32, 3]              3,843                True\n",
       "============================================================================================================================================\n",
       "Total params: 6,517,027\n",
       "Trainable params: 3,843\n",
       "Non-trainable params: 6,513,184\n",
       "Total mult-adds (G): 18.19\n",
       "============================================================================================================================================\n",
       "Input size (MB): 19.27\n",
       "Forward/backward pass size (MB): 4786.00\n",
       "Params size (MB): 26.07\n",
       "Estimated Total Size (MB): 4831.34\n",
       "============================================================================================================================================"
      ]
     },
     "execution_count": 8,
     "metadata": {},
     "output_type": "execute_result"
    }
   ],
   "source": [
    "from torchinfo import summary\n",
    "\n",
    "# Get a summary of the model (uncomment for full output)\n",
    "summary(model, \n",
    "        input_size=(32, 3, 224, 224),\n",
    "        verbose=0,\n",
    "        col_names=[\"input_size\", \"output_size\", \"num_params\", \"trainable\"],\n",
    "        col_width=20,\n",
    "        row_settings=[\"var_names\"]\n",
    ")"
   ]
  },
  {
   "cell_type": "code",
   "execution_count": null,
   "metadata": {},
   "outputs": [],
   "source": []
  },
  {
   "cell_type": "code",
   "execution_count": 9,
   "metadata": {},
   "outputs": [],
   "source": [
    "from torch.utils.tensorboard import SummaryWriter\n",
    "from timeit import default_timer as timer "
   ]
  },
  {
   "cell_type": "code",
   "execution_count": 10,
   "metadata": {},
   "outputs": [],
   "source": [
    "# writer = SummaryWriter()\n",
    "# writer = None"
   ]
  },
  {
   "cell_type": "code",
   "execution_count": 18,
   "metadata": {},
   "outputs": [
    {
     "name": "stdout",
     "output_type": "stream",
     "text": [
      "[INFO] Created SummaryWriter, saving to: runs/2023-10-23/data_10/effnetb1/10_epochs...\n"
     ]
    }
   ],
   "source": [
    "writer = utils.create_writer(experiment_name=\"data_10\", model_name = \"effnetb1\", extra=\"10_epochs\")\n",
    "\n",
    "NUM_EPOCHS = 10\n",
    "BATCH_SIZE = 32\n",
    "LEARNING_RATE = 1e-3\n",
    "loss_fn = torch.nn.CrossEntropyLoss()\n",
    "optimizer = torch.optim.Adam(model.parameters(), lr=LEARNING_RATE)"
   ]
  },
  {
   "cell_type": "code",
   "execution_count": 19,
   "metadata": {},
   "outputs": [
    {
     "data": {
      "application/vnd.jupyter.widget-view+json": {
       "model_id": "9008ade4851d4c5b8f930719a6e1d951",
       "version_major": 2,
       "version_minor": 0
      },
      "text/plain": [
       "  0%|          | 0/10 [00:00<?, ?it/s]"
      ]
     },
     "metadata": {},
     "output_type": "display_data"
    },
    {
     "name": "stdout",
     "output_type": "stream",
     "text": [
      "Epoch: 1 | train_loss: 1.0708 | train_acc: 0.5000 | test_loss: 0.9853 | test_acc: 0.7216\n",
      "Epoch: 2 | train_loss: 0.9405 | train_acc: 0.8906 | test_loss: 0.9166 | test_acc: 0.9167\n",
      "Epoch: 3 | train_loss: 0.8422 | train_acc: 0.9258 | test_loss: 0.8554 | test_acc: 0.8968\n",
      "Epoch: 4 | train_loss: 0.8202 | train_acc: 0.7891 | test_loss: 0.7930 | test_acc: 0.8561\n",
      "Epoch: 5 | train_loss: 0.7893 | train_acc: 0.7852 | test_loss: 0.7564 | test_acc: 0.8864\n",
      "Epoch: 6 | train_loss: 0.7779 | train_acc: 0.8164 | test_loss: 0.7143 | test_acc: 0.8864\n",
      "Epoch: 7 | train_loss: 0.6536 | train_acc: 0.8203 | test_loss: 0.6628 | test_acc: 0.9479\n",
      "Epoch: 8 | train_loss: 0.6698 | train_acc: 0.8242 | test_loss: 0.6630 | test_acc: 0.8968\n",
      "Epoch: 9 | train_loss: 0.6113 | train_acc: 0.8203 | test_loss: 0.6352 | test_acc: 0.8968\n",
      "Epoch: 10 | train_loss: 0.5887 | train_acc: 0.8359 | test_loss: 0.6252 | test_acc: 0.9072\n",
      "[INFO] Total training time: 74.378 seconds\n"
     ]
    }
   ],
   "source": [
    "start_time = timer()\n",
    "\n",
    "# Start training with help from engine.py\n",
    "results = engine.train(model=model,\n",
    "             train_dataloader=train_dataloader,\n",
    "             test_dataloader=test_dataloader,\n",
    "             loss_fn=loss_fn,\n",
    "             optimizer=optimizer,\n",
    "             epochs=NUM_EPOCHS,\n",
    "             device=device,\n",
    "             writer=writer)\n",
    "\n",
    "# End the timer and print out how long it took\n",
    "end_time = timer()\n",
    "print(f\"[INFO] Total training time: {end_time-start_time:.3f} seconds\")"
   ]
  },
  {
   "cell_type": "code",
   "execution_count": 13,
   "metadata": {},
   "outputs": [
    {
     "data": {
      "text/plain": [
       "odict_keys(['1.weight', '1.bias'])"
      ]
     },
     "execution_count": 13,
     "metadata": {},
     "output_type": "execute_result"
    }
   ],
   "source": [
    "model.state_dict().keys()\n",
    "model.features.state_dict().keys()\n",
    "model.classifier.state_dict().keys()"
   ]
  },
  {
   "cell_type": "markdown",
   "metadata": {},
   "source": [
    "### View Tensorboard"
   ]
  },
  {
   "cell_type": "code",
   "execution_count": 25,
   "metadata": {},
   "outputs": [],
   "source": [
    "# %load_ext tensorboard\n",
    "# %tensorboard --logdir runs"
   ]
  },
  {
   "cell_type": "code",
   "execution_count": 20,
   "metadata": {},
   "outputs": [],
   "source": [
    "num_epochs = [5,10]"
   ]
  },
  {
   "cell_type": "markdown",
   "metadata": {},
   "source": [
    "### Systematic Experiment Tracking"
   ]
  },
  {
   "cell_type": "code",
   "execution_count": 21,
   "metadata": {},
   "outputs": [
    {
     "name": "stdout",
     "output_type": "stream",
     "text": [
      "[INFO] Experiment number: 1\n",
      "[INFO] Number of epochs: 5\n",
      "[INFO] Created SummaryWriter, saving to: runs/2023-10-23/eff_nets/EfficientNet/5_epochs...\n"
     ]
    },
    {
     "data": {
      "application/vnd.jupyter.widget-view+json": {
       "model_id": "3da049ba0a39452880511a40f278b660",
       "version_major": 2,
       "version_minor": 0
      },
      "text/plain": [
       "  0%|          | 0/5 [00:00<?, ?it/s]"
      ]
     },
     "metadata": {},
     "output_type": "display_data"
    },
    {
     "name": "stdout",
     "output_type": "stream",
     "text": [
      "Epoch: 1 | train_loss: 1.0273 | train_acc: 0.6133 | test_loss: 1.0086 | test_acc: 0.5578\n",
      "Epoch: 2 | train_loss: 0.9573 | train_acc: 0.7109 | test_loss: 0.9198 | test_acc: 0.7225\n",
      "Epoch: 3 | train_loss: 0.8363 | train_acc: 0.7539 | test_loss: 0.8523 | test_acc: 0.7850\n",
      "Epoch: 4 | train_loss: 0.7455 | train_acc: 0.8086 | test_loss: 0.7955 | test_acc: 0.7850\n",
      "Epoch: 5 | train_loss: 0.8198 | train_acc: 0.7969 | test_loss: 0.7242 | test_acc: 0.7955\n",
      "[INFO] Saving model to: models/07_EfficientNet_5_epochs.pth\n",
      "--------------------------------------------------\n",
      "\n",
      "[INFO] Experiment number: 2\n",
      "[INFO] Number of epochs: 10\n",
      "[INFO] Created SummaryWriter, saving to: runs/2023-10-23/eff_nets/EfficientNet/10_epochs...\n"
     ]
    },
    {
     "data": {
      "application/vnd.jupyter.widget-view+json": {
       "model_id": "b19699506c1e4e4f881c5bf68f4e23a3",
       "version_major": 2,
       "version_minor": 0
      },
      "text/plain": [
       "  0%|          | 0/10 [00:00<?, ?it/s]"
      ]
     },
     "metadata": {},
     "output_type": "display_data"
    },
    {
     "name": "stdout",
     "output_type": "stream",
     "text": [
      "Epoch: 1 | train_loss: 1.0718 | train_acc: 0.4883 | test_loss: 1.0048 | test_acc: 0.6515\n",
      "Epoch: 2 | train_loss: 0.9449 | train_acc: 0.8008 | test_loss: 0.9129 | test_acc: 0.8561\n",
      "Epoch: 3 | train_loss: 0.8519 | train_acc: 0.9219 | test_loss: 0.8441 | test_acc: 0.9271\n",
      "Epoch: 4 | train_loss: 0.8169 | train_acc: 0.8047 | test_loss: 0.8111 | test_acc: 0.8864\n",
      "Epoch: 5 | train_loss: 0.7694 | train_acc: 0.8047 | test_loss: 0.7559 | test_acc: 0.8864\n",
      "Epoch: 6 | train_loss: 0.6569 | train_acc: 0.9258 | test_loss: 0.6998 | test_acc: 0.8864\n",
      "Epoch: 7 | train_loss: 0.6485 | train_acc: 0.9062 | test_loss: 0.6795 | test_acc: 0.8864\n",
      "Epoch: 8 | train_loss: 0.5700 | train_acc: 0.9219 | test_loss: 0.6504 | test_acc: 0.8864\n",
      "Epoch: 9 | train_loss: 0.5394 | train_acc: 0.9062 | test_loss: 0.6422 | test_acc: 0.8258\n",
      "Epoch: 10 | train_loss: 0.5035 | train_acc: 0.9180 | test_loss: 0.6353 | test_acc: 0.7945\n",
      "[INFO] Saving model to: models/07_EfficientNet_10_epochs.pth\n",
      "--------------------------------------------------\n",
      "\n"
     ]
    }
   ],
   "source": [
    "# %%time\n",
    "\n",
    "set_seeds(seed=42)\n",
    "experiment_number = 0\n",
    "for epochs in num_epochs: \n",
    "\n",
    "    experiment_number += 1\n",
    "    print(f\"[INFO] Experiment number: {experiment_number}\")\n",
    "    print(f\"[INFO] Number of epochs: {epochs}\")  \n",
    "\n",
    "\n",
    "    model = torchvision.models.efficientnet_b1(weights=weights)\n",
    "\n",
    "    for param in model.features.parameters():\n",
    "        param.requires_grad = False\n",
    "\n",
    "    model.classifier = torch.nn.Sequential(\n",
    "        torch.nn.Dropout(p=0.2, inplace=True), \n",
    "        torch.nn.Linear(in_features=1280, out_features=len(classnames),bias=True))\n",
    "\n",
    "    loss_fn = torch.nn.CrossEntropyLoss()\n",
    "    optimizer = torch.optim.Adam(params=model.parameters(), lr=0.001)\n",
    "\n",
    "   \n",
    "    engine.train(model=model,\n",
    "            train_dataloader=train_dataloader,\n",
    "            test_dataloader=test_dataloader, \n",
    "            optimizer=optimizer,\n",
    "            loss_fn=loss_fn,\n",
    "            epochs=epochs,\n",
    "            device=device,\n",
    "            writer=utils.create_writer(experiment_name=\"eff_nets\", model_name=model._get_name(), extra=f\"{epochs}_epochs\"))\n",
    "    \n",
    "    save_filepath = f\"07_{model._get_name()}_{epochs}_epochs.pth\"\n",
    "    utils.save_model(model=model, target_dir=\"models\", model_name=save_filepath)\n",
    "    \n",
    "    print(\"-\"*50 + \"\\n\")"
   ]
  },
  {
   "cell_type": "code",
   "execution_count": 24,
   "metadata": {},
   "outputs": [],
   "source": [
    "# %load_ext tensorboard\n",
    "# %tensorboard --logdir runs"
   ]
  },
  {
   "cell_type": "code",
   "execution_count": null,
   "metadata": {},
   "outputs": [],
   "source": [
    "# Analyse and load the best model and then predict it ...\n",
    "\n",
    "# # Check the model file size\n",
    "# from pathlib import Path\n",
    "\n",
    "# # Get the model size in bytes then convert to megabytes\n",
    "# effnetb2_model_size = Path(best_model_path).stat().st_size // (1024*1024)\n",
    "# print(f\"EfficientNetB2 feature extractor model size: {effnetb2_model_size} MB\")"
   ]
  }
 ],
 "metadata": {
  "kernelspec": {
   "display_name": "base",
   "language": "python",
   "name": "python3"
  },
  "language_info": {
   "codemirror_mode": {
    "name": "ipython",
    "version": 3
   },
   "file_extension": ".py",
   "mimetype": "text/x-python",
   "name": "python",
   "nbconvert_exporter": "python",
   "pygments_lexer": "ipython3",
   "version": "3.10.12"
  }
 },
 "nbformat": 4,
 "nbformat_minor": 2
}
